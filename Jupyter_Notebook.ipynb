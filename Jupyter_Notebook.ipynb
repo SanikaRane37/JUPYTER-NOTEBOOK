{
 "cells": [
  {
   "cell_type": "markdown",
   "metadata": {},
   "source": [
    "<center>\n",
    "    <img src=\"https://cf-courses-data.s3.us.cloud-object-storage.appdomain.cloud/IBMDeveloperSkillsNetwork-DS0105EN-SkillsNetwork/labs/Module2/images/SN_web_lightmode.png\" width=\"300\" alt=\"cognitiveclass.ai logo\">\n",
    "</center>\n"
   ]
  },
  {
   "cell_type": "markdown",
   "metadata": {},
   "source": [
    "#### Add your code below following the instructions given in the course\n"
   ]
  },
  {
   "cell_type": "markdown",
   "metadata": {},
   "source": [
    "# My Jupyter Notebook on IBM Watson Studio"
   ]
  },
  {
   "cell_type": "markdown",
   "metadata": {},
   "source": [
    " __Sanika Rane__"
   ]
  },
  {
   "cell_type": "markdown",
   "metadata": {},
   "source": [
    " I am aspiring to be a Data Scientist"
   ]
  },
  {
   "cell_type": "markdown",
   "metadata": {},
   "source": [
    "_I am interested in data science because in todays era we are surrounded by huge volumes of Data and its fun to gain practical and logical insights from data to make future predictions which are rational._"
   ]
  },
  {
   "cell_type": "markdown",
   "metadata": {},
   "source": [
    "### My Code prints a display Greeting Message on screen"
   ]
  },
  {
   "cell_type": "code",
   "execution_count": 4,
   "metadata": {},
   "outputs": [
    {
     "name": "stdout",
     "output_type": "stream",
     "text": [
      "Welcome To My Jupyter Notebook\n"
     ]
    }
   ],
   "source": [
    "print(\"Welcome To My Jupyter Notebook\")"
   ]
  },
  {
   "cell_type": "markdown",
   "metadata": {},
   "source": [
    "- EDA steps:\n",
    "    1. Exploratory Data Analysis. \n",
    "    2. Load the Data.\n",
    "    3. Basic information about data.\n",
    "    4. Duplicate values.\n",
    "    5. Unique values in the data.\n",
    "    6. Visualize the Unique counts.\n",
    "    7. Find the Null values.\n",
    "    8. Replace the Null values.\n",
    "    9. Data Visualization\n",
    "    \n",
    "    __For Reference (https://www.digitalocean.com/community/tutorials/exploratory-data-analysis-python)__"
   ]
  },
  {
   "cell_type": "code",
   "execution_count": null,
   "metadata": {},
   "outputs": [],
   "source": []
  }
 ],
 "metadata": {
  "kernelspec": {
   "display_name": "Python",
   "language": "python",
   "name": "conda-env-python-py"
  },
  "language_info": {
   "codemirror_mode": {
    "name": "ipython",
    "version": 3
   },
   "file_extension": ".py",
   "mimetype": "text/x-python",
   "name": "python",
   "nbconvert_exporter": "python",
   "pygments_lexer": "ipython3",
   "version": "3.7.12"
  }
 },
 "nbformat": 4,
 "nbformat_minor": 4
}
