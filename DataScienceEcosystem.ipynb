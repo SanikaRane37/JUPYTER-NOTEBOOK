{
 "cells": [
  {
   "cell_type": "markdown",
   "metadata": {
    "collapsed": true
   },
   "source": [
    "# Data Science Tools and Ecosystem"
   ]
  },
  {
   "cell_type": "markdown",
   "metadata": {},
   "source": [
    "__In this notebook, Data Science Tools and Ecosystem are summarized__"
   ]
  },
  {
   "cell_type": "markdown",
   "metadata": {},
   "source": [
    "__Objectives:__\n",
    "\n",
    "- Some Popular Languages For DS\n",
    "- Som commonly use DS Libraries \n",
    "- Basic Python Codes\n",
    "- Minues to Hour coversion"
   ]
  },
  {
   "cell_type": "markdown",
   "metadata": {},
   "source": [
    "#### Some of the popular languages that Data Scientists use are:\n",
    "    1. Python\n",
    "    2. R Language\n",
    "    3. SQL(Structured Querry Language)\n",
    "    4. Julia\n",
    "    5. Scala\n",
    "    6. Statistical Analytical System\n",
    "    7. Matlab"
   ]
  },
  {
   "cell_type": "markdown",
   "metadata": {},
   "source": [
    "### Some of the commonly used libraries used by Data Scientists include:\n",
    "    1. TensorFlow\n",
    "    2. NumPy\n",
    "    3. SciPy \n",
    "    4. Pandas\n",
    "    5. Seaborn\n",
    "    6. Keras\n",
    "    7. SciKit-Learn\n",
    "    8. PyTorch\n",
    "    9. Scrapy\n",
    "    10. BeautifulSoup\n",
    "   "
   ]
  },
  {
   "cell_type": "markdown",
   "metadata": {},
   "source": [
    "| Data Science Tools|\n",
    "|-------------------|\n",
    "| Watson Studio|\n",
    "| Anaconda |\n",
    "|Py Charm |\n",
    "|Jupyter Notebooks|\n",
    "|Zepplin Notebooks|\n"
   ]
  },
  {
   "cell_type": "code",
   "execution_count": 2,
   "metadata": {},
   "outputs": [
    {
     "data": {
      "text/html": [
       "<style>\n",
       "table {float:left}\n"
      ],
      "text/plain": [
       "<IPython.core.display.HTML object>"
      ]
     },
     "metadata": {},
     "output_type": "display_data"
    }
   ],
   "source": [
    "%%html\n",
    "<style>\n",
    "table {float:left}"
   ]
  },
  {
   "cell_type": "markdown",
   "metadata": {},
   "source": [
    "### Below are a few examples of evaluating arithmetic expressions in Python.\n"
   ]
  },
  {
   "cell_type": "code",
   "execution_count": 5,
   "metadata": {},
   "outputs": [
    {
     "name": "stdout",
     "output_type": "stream",
     "text": [
      "Sum Of X and Y is :5\n",
      "Difference of x and y is : -1\n",
      "Quotient of x and y is : 0.6666666666666666\n",
      "Quotient from floor division of x and y is : 0\n"
     ]
    }
   ],
   "source": [
    "x = 2\n",
    "y= 3\n",
    "\n",
    "print(f\"Sum Of X and Y is :{x+y}\")\n",
    "print(f\"Difference of x and y is : {x-y}\")\n",
    "print(f\"Quotient of x and y is : {x/y}\")\n",
    "print(f\"Quotient from floor division of x and y is : {x//y}\")"
   ]
  },
  {
   "cell_type": "code",
   "execution_count": 6,
   "metadata": {},
   "outputs": [
    {
     "data": {
      "text/plain": [
       "17"
      ]
     },
     "execution_count": 6,
     "metadata": {},
     "output_type": "execute_result"
    }
   ],
   "source": [
    "# This a simple arithmetic expression to mutiply then add integers\n",
    "(3*4)+5"
   ]
  },
  {
   "cell_type": "code",
   "execution_count": 11,
   "metadata": {},
   "outputs": [
    {
     "name": "stdout",
     "output_type": "stream",
     "text": [
      "200 Minutes Is equivallent to 3 Hours and 20 minutes \n"
     ]
    }
   ],
   "source": [
    "# his will convert 200 minutes to hours by dividng by 60\n",
    "minutes = 200\n",
    "converter_factor = 60\n",
    "sec =200*60\n",
    "min=(sec%3600)//60\n",
    "hours = minutes//converter_factor\n",
    "print(f\"200 Minutes Is equivallent to {hours} Hours and {min} minutes \")\n"
   ]
  },
  {
   "cell_type": "markdown",
   "metadata": {},
   "source": [
    "## Author\n",
    " Sanika Rane"
   ]
  },
  {
   "cell_type": "code",
   "execution_count": null,
   "metadata": {},
   "outputs": [],
   "source": []
  },
  {
   "cell_type": "code",
   "execution_count": null,
   "metadata": {},
   "outputs": [],
   "source": []
  }
 ],
 "metadata": {
  "kernelspec": {
   "display_name": "Python 3.10",
   "language": "python",
   "name": "python3"
  },
  "language_info": {
   "codemirror_mode": {
    "name": "ipython",
    "version": 3
   },
   "file_extension": ".py",
   "mimetype": "text/x-python",
   "name": "python",
   "nbconvert_exporter": "python",
   "pygments_lexer": "ipython3",
   "version": "3.10.9"
  }
 },
 "nbformat": 4,
 "nbformat_minor": 1
}
